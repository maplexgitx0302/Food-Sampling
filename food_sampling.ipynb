{
 "cells": [
  {
   "cell_type": "markdown",
   "metadata": {},
   "source": [
    "# No idea what to eat? Just sampling!\n",
    "\n",
    "This python script allows you to sample a food choice with corresponding weights."
   ]
  },
  {
   "cell_type": "code",
   "execution_count": null,
   "metadata": {},
   "outputs": [],
   "source": [
    "from functools import reduce\n",
    "from getpass import getpass\n",
    "import json\n",
    "import random\n",
    "\n",
    "max_choices = 3\n",
    "print(f\"\\n# Welcome to food sampling!\\n\")"
   ]
  },
  {
   "cell_type": "markdown",
   "metadata": {},
   "source": [
    "### Food options"
   ]
  },
  {
   "cell_type": "code",
   "execution_count": null,
   "metadata": {},
   "outputs": [],
   "source": [
    "# Read food json file.\n",
    "with open(\"food.json\", \"r\") as json_file:\n",
    "    food_json = json.load(json_file)\n",
    "    food_list = []\n",
    "    for food in food_json.keys():\n",
    "        if \"//\" not in food:\n",
    "            food_list.append(food)\n",
    "    food_indices = range(len(food_list))\n",
    "\n",
    "# Turn into dictionary with food indices.\n",
    "option_dict = dict(enumerate(food_list))\n",
    "\n",
    "def print_food_table():\n",
    "    print(f\"# Table of food options:\")\n",
    "    for index in food_indices:\n",
    "        food = option_dict[index]\n",
    "        print(f\"* {index} -> {food}\")\n",
    "\n",
    "print_food_table()"
   ]
  },
  {
   "cell_type": "markdown",
   "metadata": {},
   "source": [
    "### Computing weights and sampling\n",
    "\n",
    "1. Compute weights from voting result.\n",
    "2. Sample `num_choices` options with weights."
   ]
  },
  {
   "cell_type": "code",
   "execution_count": null,
   "metadata": {},
   "outputs": [],
   "source": [
    "class NumChoiceError(Exception):\n",
    "    def __init__(self, num_choices):\n",
    "        '''Too many choices.'''\n",
    "        error_message = f\"Over maximum number of choices -> {num_choices} > {max_choices}\"\n",
    "        super().__init__(error_message)\n",
    "\n",
    "class WrongIndexError(Exception):\n",
    "    def __init__(self, index):\n",
    "        '''Index does not exist.'''\n",
    "        error_message = f\"Check your index -> {index}\"\n",
    "        super().__init__(error_message)"
   ]
  },
  {
   "cell_type": "code",
   "execution_count": null,
   "metadata": {},
   "outputs": [],
   "source": [
    "# Rules and usage for voting.\n",
    "def print_info():\n",
    "    print()\n",
    "    print(\"# Start voting, e.g., 1 1 2 or 0 8 (seperate with spaces)\")\n",
    "    print(\"# Type '-1' to stop inputing.\")\n",
    "    print(\"# Type '-t' to show the food table again.\")\n",
    "    print(\"# Type '-r' to restart voting.\")\n",
    "    print(\"# Type '-z' to undo the last voting.\")\n",
    "    print(\"# Type '-72' to choose 72.\")\n",
    "print_info()\n",
    "\n",
    "# Start voting.\n",
    "weights = []\n",
    "while True:\n",
    "    vote = getpass(f\"\\n>>> Vote for (at most {max_choices}): \").strip()\n",
    "    \n",
    "    if vote == \"-1\":\n",
    "        break\n",
    "    \n",
    "    elif vote == \"-t\":\n",
    "        print_food_table()\n",
    "    \n",
    "    elif vote == \"-r\":\n",
    "        weights = []\n",
    "        print_info()\n",
    "    \n",
    "    elif vote == \"-z\":\n",
    "        weights = weights[:-1]\n",
    "    \n",
    "    elif vote == \"-72\":\n",
    "        weights = [[0,0,0]]\n",
    "        break\n",
    "    \n",
    "    else:\n",
    "        try:\n",
    "            vote = vote.split()\n",
    "            vote= list(map(int, vote))\n",
    "            \n",
    "            if len(vote) > max_choices:\n",
    "                raise NumChoiceError(len(vote))\n",
    "            \n",
    "            for index in vote:\n",
    "                if index not in food_indices:\n",
    "                    raise WrongIndexError(index)\n",
    "        \n",
    "        except Exception as e:\n",
    "            print(f\"\\n@@? {e}\")\n",
    "        \n",
    "        else:\n",
    "            weights.append(vote)\n",
    "\n",
    "# Calculating weights.\n",
    "if len(weights) == 0:\n",
    "    print(\"\\n# No weights specified -> uniform weights.\")\n",
    "    weights = list(food_indices)\n",
    "else:\n",
    "    weights = reduce(lambda x, y : x + y, weights)\n",
    "print(f\"\\n# Total weights = {weights}\\n\")\n",
    "for index, food in option_dict.items():\n",
    "    num_votes = weights.count(index)\n",
    "    if num_votes > 0:\n",
    "        print(f\"* {food} has {num_votes} vote(s).\")\n",
    "\n",
    "# Samples.\n",
    "print(f\"\\n # Sampling result:\")\n",
    "candidates = []\n",
    "while len(candidates) < min(3, len(set(weights))):\n",
    "    sample = option_dict[random.sample(weights, k=1)[0]]\n",
    "    if sample not in candidates:\n",
    "        candidates.append(sample)\n",
    "        print(f\"* Number {len(candidates)} food candidate is {sample}\")"
   ]
  },
  {
   "cell_type": "markdown",
   "metadata": {},
   "source": [
    "### Check the functionality of `random.sample`\n",
    "\n",
    "Only executes when using Jupyter Notebook, i.e., `ipynb` files."
   ]
  },
  {
   "cell_type": "code",
   "execution_count": null,
   "metadata": {},
   "outputs": [],
   "source": [
    "try:\n",
    "    # Jupyter Notebook raises \"NameError\", plot only when using `ipynb`.\n",
    "    __file__\n",
    "\n",
    "except NameError:\n",
    "    # Import plotting packages.\n",
    "    import pandas as pd\n",
    "    import seaborn as sns\n",
    "    sns.set_theme()\n",
    "\n",
    "    # Randomly sampling.\n",
    "    samples = [random.sample(weights, k=1)[0] for _ in range(1000)]\n",
    "\n",
    "    # Pandas Data Frame.\n",
    "    df = pd.concat([\n",
    "        pd.DataFrame({\"Source\": [\"Weights\"] * len(weights), \"Value\": weights}),\n",
    "        pd.DataFrame({\"Source\": [\"Samples\"] * len(samples), \"Value\": samples}),\n",
    "    ])\n",
    "\n",
    "    # Histogram of \"Weights\" and \"Samples\".\n",
    "    hist = sns.histplot(\n",
    "        data=df,\n",
    "        x=\"Value\", # 0, 1, 2, 3, ... -> food_indices\n",
    "        hue=\"Source\", # Plot histograms respect to \"Weights\" or \"Samples\".\n",
    "        bins=food_indices, # Equivalent to number of food_indices.\n",
    "        multiple=\"dodge\", # Seperate 2 histograms instead of overlapping them.\n",
    "        stat=\"probability\", # Normalize histograms.\n",
    "        common_norm=False, # Normalize seperately for 2 histograms.\n",
    "        shrink=0.8, # Make bins not too close together.\n",
    "    )\n",
    "    hist.set(title=\"Comparing weights and samples\")\n",
    "\n",
    "else:\n",
    "    # Skip plotting when only run with `py` scripts.\n",
    "    pass"
   ]
  }
 ],
 "metadata": {
  "kernelspec": {
   "display_name": "Python 3",
   "language": "python",
   "name": "python3"
  },
  "language_info": {
   "codemirror_mode": {
    "name": "ipython",
    "version": 3
   },
   "file_extension": ".py",
   "mimetype": "text/x-python",
   "name": "python",
   "nbconvert_exporter": "python",
   "pygments_lexer": "ipython3",
   "version": "3.9.12"
  }
 },
 "nbformat": 4,
 "nbformat_minor": 2
}
